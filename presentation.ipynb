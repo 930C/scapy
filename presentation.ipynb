{
 "cells": [
  {
   "cell_type": "code",
   "id": "initial_id",
   "metadata": {
    "collapsed": true,
    "ExecuteTime": {
     "end_time": "2024-06-06T16:06:28.452710Z",
     "start_time": "2024-06-06T16:06:27.617605Z"
    }
   },
   "source": [
    "from scapy.layers.inet import *\n",
    "from scapy.all import *\n",
    "\n",
    "sr1(IP(dst=\"8.8.8.8\")/ICMP()).show()"
   ],
   "outputs": [
    {
     "name": "stdout",
     "output_type": "stream",
     "text": [
      "Begin emission:\n",
      "Finished sending 1 packets.\n",
      "\n",
      "Received 8 packets, got 1 answers, remaining 0 packets\n",
      "###[ IP ]### \n",
      "  version   = 4\n",
      "  ihl       = 5\n",
      "  tos       = 0x0\n",
      "  len       = 28\n",
      "  id        = 0\n",
      "  flags     = \n",
      "  frag      = 0\n",
      "  ttl       = 121\n",
      "  proto     = icmp\n",
      "  chksum    = 0x84d6\n",
      "  src       = 8.8.8.8\n",
      "  dst       = 10.65.162.186\n",
      "  \\options   \\\n",
      "###[ ICMP ]### \n",
      "     type      = echo-reply\n",
      "     code      = 0\n",
      "     chksum    = 0x0\n",
      "     id        = 0x0\n",
      "     seq       = 0x0\n",
      "     unused    = ''\n",
      "###[ Padding ]### \n",
      "        load      = '\\x00\\x00\\x00\\x00\\x00\\x00\\x00\\x00\\x00\\x00\\x00\\x00\\x00\\x00\\x00\\x00\\x00\\x00'\n",
      "\n"
     ]
    }
   ],
   "execution_count": 2
  },
  {
   "metadata": {
    "ExecuteTime": {
     "end_time": "2024-06-06T16:06:45.104990Z",
     "start_time": "2024-06-06T16:06:45.040626Z"
    }
   },
   "cell_type": "code",
   "source": [
    "# Senden eines Pakets ohne auf eine Antwort zu warten\n",
    "send(IP(dst=\"8.8.8.8\")/ICMP())\n",
    "\n",
    "# Senden eines Pakets und Empfangen der Antwort\n",
    "ans, unans = sr(IP(dst=\"8.8.8.8\")/ICMP())\n",
    "ans.summary()"
   ],
   "id": "75fb21b76973d5ee",
   "outputs": [
    {
     "name": "stdout",
     "output_type": "stream",
     "text": [
      "\n",
      "Sent 1 packets.\n",
      "Begin emission:\n",
      "Finished sending 1 packets.\n",
      "\n",
      "Received 2 packets, got 1 answers, remaining 0 packets\n",
      "IP / ICMP 10.65.162.186 > 8.8.8.8 echo-request 0 ==> IP / ICMP 8.8.8.8 > 10.65.162.186 echo-reply 0 / Padding\n"
     ]
    }
   ],
   "execution_count": 3
  },
  {
   "metadata": {},
   "cell_type": "code",
   "outputs": [],
   "execution_count": null,
   "source": [
    "# Sniffen von Paketen auf dem Interface eth0\n",
    "packets = sniff(iface=\"eth0\", count=10)\n",
    "packets.summary()\n"
   ],
   "id": "c44dc669930a68e7"
  }
 ],
 "metadata": {
  "kernelspec": {
   "display_name": "Python 3",
   "language": "python",
   "name": "python3"
  },
  "language_info": {
   "codemirror_mode": {
    "name": "ipython",
    "version": 2
   },
   "file_extension": ".py",
   "mimetype": "text/x-python",
   "name": "python",
   "nbconvert_exporter": "python",
   "pygments_lexer": "ipython2",
   "version": "2.7.6"
  }
 },
 "nbformat": 4,
 "nbformat_minor": 5
}
