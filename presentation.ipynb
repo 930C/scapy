{
 "cells": [
  {
   "metadata": {},
   "cell_type": "markdown",
   "source": [
    "\n",
    "\n",
    "| **TCP/IP-Schicht**    | **Protokoll**  | **Scapy-Objekt**                 |\n",
    "| --------------------- | -------------- | -------------------------------- |\n",
    "| **Link Layer**        | Ethernet       | `Ether()`                        |\n",
    "|                       | Wi-Fi (802.11) | `Dot11()`                        |\n",
    "|                       | ARP            | `ARP()`                          |\n",
    "| **Internet Layer**    | IP             | `IP()`                           |\n",
    "|                       | IPv6           | `IPv6()`                         |\n",
    "|                       | ICMP           | `ICMP()`                         |\n",
    "| **Transport Layer**   | TCP            | `TCP()`                          |\n",
    "|                       | UDP            | `UDP()`                          |\n",
    "|                       | SCTP           | `SCTP()`                         |\n",
    "| **Application Layer** | HTTP           | `Raw()` (mit `IP()` und `TCP()`) |\n",
    "|                       | DNS            | `DNS()`, `DNSQR()`, `DNSRR()`    |\n",
    "|                       | FTP            | `Raw()` (mit `IP()` und `TCP()`) |\n",
    "|                       | SMTP           | `Raw()` (mit `IP()` und `TCP()`) |\n",
    "\n"
   ],
   "id": "451206f3cc54f154"
  },
  {
   "metadata": {},
   "cell_type": "markdown",
   "source": [
    "\n",
    "| Methode        | Beschreibung                                                                                                                                                                               |     |\n",
    "| -------------- | ------------------------------------------------------------------------------------------------------------------------------------------------------------------------------------------ | --- |\n",
    "| `send()`       | Sendet Pakete auf Layer 3 (Netzwerkschicht). Beispiel: `send(IP(dst=\"1.1.1.1\")/ICMP())`                                                                                                    |     |\n",
    "| `sendp()`      | Sendet Pakete auf Layer 2 (Datenverbindungsschicht). Beispiel: `sendp(Ether()/IP(dst=\"1.1.1.1\")/ICMP())`                                                                                   |     |\n",
    "| `sr()`         | Sendet und empfängt Pakete auf Layer 3. Beispiel: `sr(IP(dst=\"1.1.1.1\")/ICMP())`                                                                                                           |     |\n",
    "| `sr1()`        | Sendet ein Paket und empfängt die erste Antwort auf Layer 3. Beispiel: `sr1(IP(dst=\"1.1.1.1\")/ICMP())`                                                                                     |     |\n",
    "| `srp()`        | Sendet und empfängt Pakete auf Layer 2. Beispiel: `srp(Ether()/IP(dst=\"1.1.1.1\")/ICMP())`                                                                                                  |     |\n",
    "| `srp1()`       | Sendet ein Paket und empfängt die erste Antwort auf Layer 2. Beispiel: `srp1(Ether()/IP(dst=\"1.1.1.1\")/ICMP())`                                                                            |     |\n",
    "| `sniff()`      | Fängt Pakete ab und kann mit einem Filter und einer Callback-Funktion verwendet werden. Beispiel: `sniff(filter=\"icmp\", prn=lambda x: x.show())`                                           |     |\n",
    "| `traceroute()` | Führt eine Traceroute durch und zeigt den Weg zu einem Ziel. Beispiel: `traceroute(\"1.1.1.1\")`                                                                                             |     |\n",
    "| `arping()`     | Sendet ARP-Anfragen, um Geräte im Netzwerk zu entdecken. Beispiel: `arping(\"192.168.1.0/24\")`                                                                                              |     |\n",
    "| `sendrecv()`   | Eine generische Methode, die `sr()`, `sr1()`, `srp()`, und `srp1()` vereint und basierend auf den Parametern die passende Methode auswählt. Beispiel: `sendrecv(IP(dst=\"1.1.1.1\")/ICMP())` |     |\n",
    "\n"
   ],
   "id": "ae51a4bc8dc13739"
  },
  {
   "cell_type": "code",
   "id": "initial_id",
   "metadata": {
    "collapsed": true
   },
   "source": [
    "from scapy.layers.inet import *\n",
    "from scapy.all import *\n",
    "\n",
    "sr1(IP(dst=\"8.8.8.8\")/ICMP()).show()"
   ],
   "outputs": [],
   "execution_count": null
  },
  {
   "metadata": {},
   "cell_type": "code",
   "source": [
    "# Senden eines Pakets ohne auf eine Antwort zu warten\n",
    "send(IP(dst=\"8.8.8.8\")/ICMP())\n",
    "\n",
    "# Senden eines Pakets und Empfangen der Antwort\n",
    "ans, unans = sr(IP(dst=\"8.8.8.8\")/ICMP())\n",
    "ans.summary()"
   ],
   "id": "75fb21b76973d5ee",
   "outputs": [],
   "execution_count": null
  },
  {
   "metadata": {},
   "cell_type": "markdown",
   "source": "# Live Demo - iPhone anpingen im lokalen Netzwerk (über USB und Hotspot)",
   "id": "fafe4d045df3a48e"
  },
  {
   "metadata": {},
   "cell_type": "markdown",
   "source": "### 1. ARP-Request senden (um MAC-Adresse des iPhones zu ermitteln)",
   "id": "d86def0ea9dd18b4"
  },
  {
   "metadata": {},
   "cell_type": "code",
   "source": [
    "from scapy.layers.l2 import ARP\n",
    "from scapy.all import *\n",
    "\n",
    "# Ziel-IP-Adresse deines iPhones\n",
    "target_ip = \"172.20.10.1\"\n",
    "\n",
    "# WLAN-Schnittstelle auf Windows\n",
    "interface = \"Wi-Fi\"  # Name der WLAN-Schnittstelle\n",
    "\n",
    "# ARP Anfrage erstellen\n",
    "arp_request = ARP(pdst=target_ip)\n",
    "ether = Ether(dst=\"ff:ff:ff:ff:ff:ff\")\n",
    "arp_packet = ether / arp_request\n",
    "\n",
    "# Senden und Empfangen der Antwort\n",
    "answered, unanswered = srp(arp_packet, iface=interface, timeout=2)\n",
    "\n",
    "# Ergebnisse anzeigen\n",
    "if answered:\n",
    "    for snd, rcv in answered:\n",
    "        print(f\"IP-Adresse: {rcv.psrc} hat MAC-Adresse: {rcv.hwsrc}\")\n",
    "        iphone_mac = rcv.hwsrc\n",
    "else:\n",
    "    print(\"Keine Antwort erhalten\")\n"
   ],
   "id": "b8d7a7510e9850ff",
   "outputs": [],
   "execution_count": null
  },
  {
   "metadata": {},
   "cell_type": "markdown",
   "source": "### 2. ICMP-Paket senden (um zu überprüfen, ob das iPhone erreichbar ist)",
   "id": "97fbe253190e49b4"
  },
  {
   "metadata": {},
   "cell_type": "code",
   "source": [
    "from scapy.layers.dot11 import Dot11\n",
    "from scapy.all import *\n",
    "\n",
    "# Ziel-IP-Adresse deines iPhones\n",
    "target_ip = \"172.20.10.1\"\n",
    "target_mac = \"92:ec:ea:4c:51:64\"\n",
    "\n",
    "# IP und ICMP Schicht erstellen\n",
    "ip = IP(dst=target_ip)\n",
    "icmp = ICMP()\n",
    "\n",
    "# Schichten zusammenfügen\n",
    "#packet = ip / icmp\n",
    "packet = Ether(dst=target_mac) / ip / icmp\n",
    "\n",
    "packet.show()\n",
    "\n",
    "# Paket senden (wartet auf eine Antwort für 2 Sekunden)\n",
    "response = sr1(packet, timeout=5, iface=\"Wi-Fi\")\n",
    "\n",
    "# Überprüfe, ob eine Antwort empfangen wurde\n",
    "if response:\n",
    "    response.show()\n",
    "else:\n",
    "    print(\"Keine Antwort erhalten\")\n"
   ],
   "id": "c44dc669930a68e7",
   "outputs": [],
   "execution_count": null
  },
  {
   "metadata": {},
   "cell_type": "markdown",
   "source": "### 3. Port-Scan durchführen (SYN-Scan)",
   "id": "bed7d87bb0293f7f"
  },
  {
   "metadata": {},
   "cell_type": "code",
   "source": [
    "from scapy.all import *\n",
    "\n",
    "target_ip = \"172.20.10.1\"\n",
    "# target_ip = \"test.c930.net\"\n",
    "# Liste der Ports, die gescannt werden sollen\n",
    "ports = [22, 80, 443]\n",
    "\n",
    "def syn_scan(ip, ports):\n",
    "    open_ports = []\n",
    "    for port in ports:\n",
    "        packet = IP(dst=ip) / TCP(dport=port, flags=\"S\")\n",
    "        response = sr1(packet, timeout=1, verbose=0)\n",
    "        if response and response.haslayer(TCP) and response[TCP].flags == 0x12:\n",
    "            open_ports.append(port)\n",
    "            sr1(IP(dst=ip) / TCP(dport=port, flags=\"R\"), timeout=1, verbose=0) # Reset senden\n",
    "    return open_ports\n",
    "\n",
    "# Scan durchführen und Ergebnisse anzeigen\n",
    "open_ports = syn_scan(target_ip, ports)\n",
    "if open_ports:\n",
    "    print(f\"Offene Ports: {open_ports}\")\n",
    "else:\n",
    "    print(\"Keine offenen Ports gefunden\")"
   ],
   "id": "45c5d834f194bfe7",
   "outputs": [],
   "execution_count": null
  },
  {
   "metadata": {},
   "cell_type": "markdown",
   "source": "### 4. Pakete im Netzwerk sniffen (um den Netzwerkverkehr zu überwachen)",
   "id": "807b55fe1c5e553e"
  },
  {
   "metadata": {
    "ExecuteTime": {
     "end_time": "2024-06-06T23:31:53.920205Z",
     "start_time": "2024-06-06T23:31:53.516422Z"
    }
   },
   "cell_type": "code",
   "source": [
    "from scapy.all import *\n",
    "import threading\n",
    "\n",
    "target_ip = \"172.20.10.1\" # Ziel-IP-Adresse deines iPhones\n",
    "interface = \"Wi-Fi\"  # Name der WLAN-Schnittstelle (Windows)\n",
    "\n",
    "# Verarbeite das empfangene Paket\n",
    "def packet_callback(packet):\n",
    "    if packet.haslayer(IP) and packet[IP].dst == target_ip:\n",
    "        print(\"Erfasstes Paket:\")\n",
    "        packet.show()\n",
    "\n",
    "# Pakete im Netzwerk sniffen\n",
    "def sniff_packets():\n",
    "    sniff(iface=interface, prn=packet_callback, filter=\"icmp\", count=1)\n",
    "\n",
    "# separate Thread für das Sniffen von Paketen erstellen\n",
    "sniffer_thread = threading.Thread(target=sniff_packets)\n",
    "sniffer_thread.start()\n",
    "\n",
    "# ICMP-Paket erstellen\n",
    "ip = IP(dst=target_ip)\n",
    "icmp = ICMP()\n",
    "packet = ip / icmp\n",
    "packet.show()\n",
    "\n",
    "# Paket senden und Antwort empfangen\n",
    "response = sr1(packet, timeout=5, iface=interface)\n",
    "\n",
    "# Überprüfen, ob eine Antwort empfangen wurde\n",
    "if response:\n",
    "    print(\"Antwort empfangen:\")\n",
    "    response.show()\n",
    "else:\n",
    "    print(\"Keine Antwort erhalten\")\n",
    "\n",
    "# Warten auf das Ende des Sniffing-Threads\n",
    "sniffer_thread.join()\n"
   ],
   "id": "bffc69b72da59940",
   "outputs": [
    {
     "name": "stdout",
     "output_type": "stream",
     "text": [
      "###[ IP ]### \n",
      "  version   = 4\n",
      "  ihl       = None\n",
      "  tos       = 0x0\n",
      "  len       = None\n",
      "  id        = 1\n",
      "  flags     = \n",
      "  frag      = 0\n",
      "  ttl       = 64\n",
      "  proto     = icmp\n",
      "  chksum    = None\n",
      "  src       = 172.20.10.4\n",
      "  dst       = 172.20.10.1\n",
      "  \\options   \\\n",
      "###[ ICMP ]### \n",
      "     type      = echo-request\n",
      "     code      = 0\n",
      "     chksum    = None\n",
      "     id        = 0x0\n",
      "     seq       = 0x0\n",
      "     unused    = ''\n",
      "\n",
      "Begin emission:\n",
      "Erfasstes Paket:\n",
      "###[ Ethernet ]### \n",
      "  dst       = 92:ec:ea:4c:51:64\n",
      "  src       = 58:6c:25:60:94:bf\n",
      "  type      = IPv4\n",
      "###[ IP ]### \n",
      "     version   = 4\n",
      "     ihl       = 5\n",
      "     tos       = 0x0\n",
      "     len       = 28\n",
      "     id        = 1\n",
      "     flags     = \n",
      "     frag      = 0\n",
      "     ttl       = 64\n",
      "     proto     = icmp\n",
      "     chksum    = 0xeb3\n",
      "     src       = 172.20.10.4\n",
      "     dst       = 172.20.10.1\n",
      "     \\options   \\\n",
      "###[ ICMP ]### \n",
      "        type      = echo-request\n",
      "        code      = 0\n",
      "        chksum    = 0xf7ff\n",
      "        id        = 0x0\n",
      "        seq       = 0x0\n",
      "        unused    = ''\n",
      "Finished sending 1 packets.\n",
      "\n",
      "\n",
      "Received 2 packets, got 1 answers, remaining 0 packets\n",
      "Antwort empfangen:\n",
      "###[ IP ]### \n",
      "  version   = 4\n",
      "  ihl       = 5\n",
      "  tos       = 0x0\n",
      "  len       = 28\n",
      "  id        = 18542\n",
      "  flags     = \n",
      "  frag      = 0\n",
      "  ttl       = 64\n",
      "  proto     = icmp\n",
      "  chksum    = 0xc645\n",
      "  src       = 172.20.10.1\n",
      "  dst       = 172.20.10.4\n",
      "  \\options   \\\n",
      "###[ ICMP ]### \n",
      "     type      = echo-reply\n",
      "     code      = 0\n",
      "     chksum    = 0xffff\n",
      "     id        = 0x0\n",
      "     seq       = 0x0\n",
      "     unused    = ''\n",
      "\n"
     ]
    }
   ],
   "execution_count": 15
  },
  {
   "metadata": {
    "ExecuteTime": {
     "end_time": "2024-06-06T23:31:53.516422Z",
     "start_time": "2024-06-06T23:31:43.500669Z"
    }
   },
   "cell_type": "code",
   "source": [
    "from scapy.all import *\n",
    "\n",
    "def packet_callback(packet):\n",
    "    if packet.haslayer(IP):\n",
    "        print(f\"IP-Paket von {packet[IP].src} zu {packet[IP].dst}\")\n",
    "\n",
    "# Sniffen von Paketen (10 Pakete)\n",
    "sniff(prn=packet_callback, count=10, timeout=10)\n"
   ],
   "id": "e926453ea6a10f42",
   "outputs": [
    {
     "data": {
      "text/plain": [
       "<Sniffed: TCP:0 UDP:0 ICMP:0 Other:0>"
      ]
     },
     "execution_count": 14,
     "metadata": {},
     "output_type": "execute_result"
    }
   ],
   "execution_count": 14
  },
  {
   "metadata": {},
   "cell_type": "markdown",
   "source": "### (TEST) Beim ICMP-Paket die MAC-Adresse manuell setzen",
   "id": "2ba2e232c3690d55"
  },
  {
   "metadata": {
    "ExecuteTime": {
     "end_time": "2024-06-06T23:30:32.527015Z",
     "start_time": "2024-06-06T23:30:32.265476Z"
    }
   },
   "cell_type": "code",
   "source": [
    "from scapy.all import *\n",
    "import os\n",
    "\n",
    "os.system('arp -a')\n",
    "\n",
    "target_ip = \"172.20.10.1\"\n",
    "target_mac = \"92:ec:ea:4c:51:64\"\n",
    "\n",
    "interface = \"Intel(R) Wi-Fi 6 AX201 160MHz\"  # Name der WLAN-Schnittstelle\n",
    "\n",
    "ip = IP(dst=target_ip)\n",
    "icmp = ICMP()\n",
    "packet = ip / icmp\n",
    "\n",
    "# Verpacken des ICMP-Pakets in ein Ethernet-Frame mit Ziel-MAC-Adresse\n",
    "ether = Ether(dst=target_mac) / packet\n",
    "#ether.show2()\n",
    "\n",
    "# Senden des Pakets und Warten auf die Antwort\n",
    "response = srp1(ether, iface=interface, timeout=5, verbose=True)\n",
    "\n",
    "if response:\n",
    "    print(\"Antwort empfangen:\")\n",
    "    response.show()\n",
    "else:\n",
    "    print(\"Keine Antwort erhalten\")\n"
   ],
   "id": "69685688500fb376",
   "outputs": [
    {
     "name": "stdout",
     "output_type": "stream",
     "text": [
      "Begin emission:\n",
      "Finished sending 1 packets.\n",
      "\n",
      "Received 3 packets, got 1 answers, remaining 0 packets\n",
      "Antwort empfangen:\n",
      "###[ Ethernet ]### \n",
      "  dst       = 58:6c:25:60:94:bf\n",
      "  src       = 92:ec:ea:4c:51:64\n",
      "  type      = IPv4\n",
      "###[ IP ]### \n",
      "     version   = 4\n",
      "     ihl       = 5\n",
      "     tos       = 0x0\n",
      "     len       = 28\n",
      "     id        = 27194\n",
      "     flags     = \n",
      "     frag      = 0\n",
      "     ttl       = 64\n",
      "     proto     = icmp\n",
      "     chksum    = 0xa479\n",
      "     src       = 172.20.10.1\n",
      "     dst       = 172.20.10.4\n",
      "     \\options   \\\n",
      "###[ ICMP ]### \n",
      "        type      = echo-reply\n",
      "        code      = 0\n",
      "        chksum    = 0xffff\n",
      "        id        = 0x0\n",
      "        seq       = 0x0\n",
      "        unused    = ''\n",
      "\n"
     ]
    }
   ],
   "execution_count": 11
  },
  {
   "metadata": {},
   "cell_type": "markdown",
   "source": [
    "## Weitere Möglichkeiten mit Scapy\n",
    "### 1. Domain Name System (DNS) Anfragen"
   ],
   "id": "67630d22fbb572"
  },
  {
   "metadata": {
    "ExecuteTime": {
     "end_time": "2024-06-06T23:55:37.980239Z",
     "start_time": "2024-06-06T23:55:35.897775Z"
    }
   },
   "cell_type": "code",
   "source": [
    "from scapy.layers.dns import DNS, DNSQR\n",
    "from scapy.all import *\n",
    "dns_request = IP(dst=\"8.8.8.8\")/UDP()/DNS(rd=1, qd=DNSQR(qname=\"c930.net\"))\n",
    "response = sr1(dns_request, timeout=5)\n",
    "response.show()\n"
   ],
   "id": "479ab3f45b27c4ca",
   "outputs": [
    {
     "name": "stdout",
     "output_type": "stream",
     "text": [
      "Begin emission:\n"
     ]
    },
    {
     "name": "stderr",
     "output_type": "stream",
     "text": [
      "WARNING: Mac address to reach destination not found. Using broadcast.\n"
     ]
    },
    {
     "name": "stdout",
     "output_type": "stream",
     "text": [
      "Finished sending 1 packets.\n",
      "\n",
      "Received 17 packets, got 1 answers, remaining 0 packets\n",
      "###[ IP ]### \n",
      "  version   = 4\n",
      "  ihl       = 5\n",
      "  tos       = 0x0\n",
      "  len       = 70\n",
      "  id        = 46614\n",
      "  flags     = \n",
      "  frag      = 0\n",
      "  ttl       = 121\n",
      "  proto     = udp\n",
      "  chksum    = 0x22c0\n",
      "  src       = 8.8.8.8\n",
      "  dst       = 10.50.78.143\n",
      "  \\options   \\\n",
      "###[ UDP ]### \n",
      "     sport     = domain\n",
      "     dport     = domain\n",
      "     len       = 50\n",
      "     chksum    = 0x9dd3\n",
      "###[ DNS ]### \n",
      "        id        = 0\n",
      "        qr        = 1\n",
      "        opcode    = QUERY\n",
      "        aa        = 0\n",
      "        tc        = 0\n",
      "        rd        = 1\n",
      "        ra        = 1\n",
      "        z         = 0\n",
      "        ad        = 0\n",
      "        cd        = 0\n",
      "        rcode     = ok\n",
      "        qdcount   = 1\n",
      "        ancount   = 1\n",
      "        nscount   = 0\n",
      "        arcount   = 0\n",
      "        \\qd        \\\n",
      "         |###[ DNS Question Record ]### \n",
      "         |  qname     = 'c930.net.'\n",
      "         |  qtype     = A\n",
      "         |  qclass    = IN\n",
      "        \\an        \\\n",
      "         |###[ DNS Resource Record ]### \n",
      "         |  rrname    = 'c930.net.'\n",
      "         |  type      = A\n",
      "         |  rclass    = IN\n",
      "         |  ttl       = 21600\n",
      "         |  rdlen     = 4\n",
      "         |  rdata     = 194.13.80.119\n",
      "        ns        = None\n",
      "        ar        = None\n",
      "\n"
     ]
    }
   ],
   "execution_count": 17
  },
  {
   "metadata": {
    "ExecuteTime": {
     "end_time": "2024-06-07T00:23:02.710802Z",
     "start_time": "2024-06-07T00:23:00.592633Z"
    }
   },
   "cell_type": "code",
   "source": [
    "from scapy.config import conf\n",
    "conf.geoip_city=\"data/GeoLite2-City.mmdb\"\n",
    "result, _ = traceroute(\"c930.net\", maxttl=20)\n",
    "result.world_trace\n"
   ],
   "id": "58782d14ca02be08",
   "outputs": [
    {
     "name": "stdout",
     "output_type": "stream",
     "text": [
      "Begin emission:\n",
      "Finished sending 20 packets.\n",
      "\n",
      "Received 34 packets, got 19 answers, remaining 1 packets\n",
      "   194.13.80.119:tcp80 \n",
      "1  10.65.139.1     11  \n",
      "3  194.13.80.119   SA  \n",
      "4  194.13.80.119   SA  \n",
      "5  194.13.80.119   SA  \n",
      "6  194.13.80.119   SA  \n",
      "7  194.13.80.119   SA  \n",
      "8  194.13.80.119   SA  \n",
      "9  194.13.80.119   SA  \n",
      "10 194.13.80.119   SA  \n",
      "11 194.13.80.119   SA  \n",
      "12 194.13.80.119   SA  \n",
      "13 194.13.80.119   SA  \n",
      "14 194.13.80.119   SA  \n",
      "15 194.13.80.119   SA  \n",
      "16 194.13.80.119   SA  \n",
      "17 194.13.80.119   SA  \n",
      "18 194.13.80.119   SA  \n",
      "19 194.13.80.119   SA  \n",
      "20 194.13.80.119   SA  \n"
     ]
    },
    {
     "data": {
      "text/plain": [
       "[]"
      ]
     },
     "execution_count": 52,
     "metadata": {},
     "output_type": "execute_result"
    },
    {
     "data": {
      "text/plain": [
       "<Figure size 640x480 with 0 Axes>"
      ]
     },
     "metadata": {},
     "output_type": "display_data"
    }
   ],
   "execution_count": 52
  },
  {
   "metadata": {
    "ExecuteTime": {
     "end_time": "2024-06-06T23:58:32.614730Z",
     "start_time": "2024-06-06T23:58:32.599466Z"
    }
   },
   "cell_type": "code",
   "source": [
    "from scapy.all import *\n",
    "\n",
    "#target = \"c930.net\"\n",
    "#target = \"194.13.80.119\"\n",
    "target = \"172.20.10.1\"\n",
    "\n",
    "packet = IP(dst=\"194.13.80.119\")/TCP(dport=80, flags=\"S\") # Sende ein Manipuliertes TCP-Paket\n",
    "send(packet)\n"
   ],
   "id": "cf7bbe8bb24ed4a6",
   "outputs": [
    {
     "name": "stdout",
     "output_type": "stream",
     "text": [
      "\n",
      "Sent 1 packets.\n"
     ]
    }
   ],
   "execution_count": 19
  },
  {
   "metadata": {
    "ExecuteTime": {
     "end_time": "2024-06-07T00:09:42.875408Z",
     "start_time": "2024-06-07T00:09:39.106990Z"
    }
   },
   "cell_type": "code",
   "source": [
    "from scapy.all import *\n",
    "from scapy.layers.inet import IP, ICMP\n",
    "import networkx as nx\n",
    "import matplotlib.pyplot as plt\n",
    "\n",
    "arp_scan_result = srp(Ether(dst=\"ff:ff:ff:ff:ff:ff\")/ARP(pdst=\"172.20.10.1/20\"), timeout=2, verbose=False, iface=\"Wi-Fi\")[0]\n",
    "\n",
    "print(arp_scan_result)\n",
    "\n",
    "G = nx.Graph()\n",
    "\n",
    "for snd, rcv in arp_scan_result:\n",
    "    print(f\"IP-Adresse: {rcv.psrc} hat MAC-Adresse: {rcv.hwsrc}\")\n",
    "    G.add_edge(snd[ARP].psrc, rcv[ARP].hwsrc)\n",
    "\n",
    "nx.draw(G, with_labels=True)\n",
    "plt.show()\n"
   ],
   "id": "ff9c74448c4ddc37",
   "outputs": [
    {
     "name": "stdout",
     "output_type": "stream",
     "text": [
      "<Results: TCP:0 UDP:0 ICMP:0 Other:0>\n"
     ]
    },
    {
     "data": {
      "text/plain": [
       "<Figure size 640x480 with 1 Axes>"
      ],
      "image/png": "[encoded data removed]"
     },
     "metadata": {},
     "output_type": "display_data"
    }
   ],
   "execution_count": 42
  },
  {
   "metadata": {
    "ExecuteTime": {
     "end_time": "2024-06-07T00:09:24.245133Z",
     "start_time": "2024-06-07T00:09:22.130034Z"
    }
   },
   "cell_type": "code",
   "source": [
    "from scapy.layers.l2 import arping\n",
    "\n",
    "arping(\"172.20.10.1/24\")"
   ],
   "id": "95c13b13c6da9308",
   "outputs": [
    {
     "name": "stdout",
     "output_type": "stream",
     "text": [
      "Begin emission:\n",
      "Finished sending 256 packets.\n",
      "\n",
      "Received 1 packets, got 1 answers, remaining 255 packets\n",
      "  92:ec:ea:4c:51:64 unknown 172.20.10.1\n"
     ]
    },
    {
     "data": {
      "text/plain": [
       "(<ARPing: TCP:0 UDP:0 ICMP:0 Other:1>,\n",
       " <Unanswered: TCP:0 UDP:0 ICMP:0 Other:255>)"
      ]
     },
     "execution_count": 41,
     "metadata": {},
     "output_type": "execute_result"
    }
   ],
   "execution_count": 41
  }
 ],
 "metadata": {
  "kernelspec": {
   "display_name": "Python 3",
   "language": "python",
   "name": "python3"
  },
  "language_info": {
   "codemirror_mode": {
    "name": "ipython",
    "version": 2
   },
   "file_extension": ".py",
   "mimetype": "text/x-python",
   "name": "python",
   "nbconvert_exporter": "python",
   "pygments_lexer": "ipython2",
   "version": "2.7.6"
  }
 },
 "nbformat": 4,
 "nbformat_minor": 5
}
